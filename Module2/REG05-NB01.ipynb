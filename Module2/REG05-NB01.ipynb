{
 "cells": [
  {
   "cell_type": "markdown",
   "metadata": {},
   "source": [
    "# Regression Week 5: Feature Selection and LASSO (Interpretation)"
   ]
  },
  {
   "cell_type": "markdown",
   "metadata": {},
   "source": [
    "In this notebook, you will use LASSO to select features, building on a pre-implemented solver for LASSO (using Turi Create, though you can use other solvers). You will:\n",
    "* Run LASSO with different L1 penalties.\n",
    "* Choose best L1 penalty using a validation set.\n",
    "* Choose best L1 penalty using a validation set, with additional constraint on the size of subset.\n",
    "\n",
    "In the second notebook, you will implement your own LASSO solver, using coordinate descent. "
   ]
  },
  {
   "cell_type": "markdown",
   "metadata": {},
   "source": [
    "# Fire up Turi Create"
   ]
  },
  {
   "cell_type": "code",
   "execution_count": 1,
   "metadata": {},
   "outputs": [],
   "source": [
    "import turicreate"
   ]
  },
  {
   "cell_type": "markdown",
   "metadata": {},
   "source": [
    "# Load in house sales data\n",
    "\n",
    "Dataset is from house sales in King County, the region where the city of Seattle, WA is located."
   ]
  },
  {
   "cell_type": "code",
   "execution_count": 2,
   "metadata": {
    "scrolled": true
   },
   "outputs": [],
   "source": [
    "sales = turicreate.SFrame('home_data.sframe/')"
   ]
  },
  {
   "cell_type": "markdown",
   "metadata": {},
   "source": [
    "# Create new features"
   ]
  },
  {
   "cell_type": "markdown",
   "metadata": {},
   "source": [
    "As in Week 2, we consider features that are some transformations of inputs."
   ]
  },
  {
   "cell_type": "code",
   "execution_count": 3,
   "metadata": {},
   "outputs": [],
   "source": [
    "from math import log, sqrt\n",
    "sales['sqft_living_sqrt'] = sales['sqft_living'].apply(sqrt)\n",
    "sales['sqft_lot_sqrt'] = sales['sqft_lot'].apply(sqrt)\n",
    "sales['bedrooms_square'] = sales['bedrooms']*sales['bedrooms']\n",
    "\n",
    "# In the dataset, 'floors' was defined with type string, \n",
    "# so we'll convert them to float, before creating a new feature.\n",
    "sales['floors'] = sales['floors'].astype(float) \n",
    "sales['floors_square'] = sales['floors']*sales['floors']"
   ]
  },
  {
   "cell_type": "markdown",
   "metadata": {},
   "source": [
    "* Squaring bedrooms will increase the separation between not many bedrooms (e.g. 1) and lots of bedrooms (e.g. 4) since 1^2 = 1 but 4^2 = 16. Consequently this variable will mostly affect houses with many bedrooms.\n",
    "* On the other hand, taking square root of sqft_living will decrease the separation between big house and small house. The owner may not be exactly twice as happy for getting a house that is twice as big."
   ]
  },
  {
   "cell_type": "markdown",
   "metadata": {},
   "source": [
    "# Learn regression weights with L1 penalty"
   ]
  },
  {
   "cell_type": "markdown",
   "metadata": {},
   "source": [
    "Let us fit a model with all the features available, plus the features we just created above."
   ]
  },
  {
   "cell_type": "code",
   "execution_count": 4,
   "metadata": {},
   "outputs": [],
   "source": [
    "all_features = ['bedrooms', 'bedrooms_square',\n",
    "                'bathrooms',\n",
    "                'sqft_living', 'sqft_living_sqrt',\n",
    "                'sqft_lot', 'sqft_lot_sqrt',\n",
    "                'floors', 'floors_square',\n",
    "                'waterfront', 'view', 'condition', 'grade',\n",
    "                'sqft_above',\n",
    "                'sqft_basement',\n",
    "                'yr_built', 'yr_renovated']"
   ]
  },
  {
   "cell_type": "markdown",
   "metadata": {},
   "source": [
    "Applying L1 penalty requires adding an extra parameter (`l1_penalty`) to the linear regression call in Turi Create. (Other tools may have separate implementations of LASSO.)  Note that it's important to set `l2_penalty=0` to ensure we don't introduce an additional L2 penalty."
   ]
  },
  {
   "cell_type": "code",
   "execution_count": 5,
   "metadata": {},
   "outputs": [
    {
     "data": {
      "text/html": [
       "<pre>Linear regression:</pre>"
      ],
      "text/plain": [
       "Linear regression:"
      ]
     },
     "metadata": {},
     "output_type": "display_data"
    },
    {
     "data": {
      "text/html": [
       "<pre>--------------------------------------------------------</pre>"
      ],
      "text/plain": [
       "--------------------------------------------------------"
      ]
     },
     "metadata": {},
     "output_type": "display_data"
    },
    {
     "data": {
      "text/html": [
       "<pre>Number of examples          : 21613</pre>"
      ],
      "text/plain": [
       "Number of examples          : 21613"
      ]
     },
     "metadata": {},
     "output_type": "display_data"
    },
    {
     "data": {
      "text/html": [
       "<pre>Number of features          : 17</pre>"
      ],
      "text/plain": [
       "Number of features          : 17"
      ]
     },
     "metadata": {},
     "output_type": "display_data"
    },
    {
     "data": {
      "text/html": [
       "<pre>Number of unpacked features : 17</pre>"
      ],
      "text/plain": [
       "Number of unpacked features : 17"
      ]
     },
     "metadata": {},
     "output_type": "display_data"
    },
    {
     "data": {
      "text/html": [
       "<pre>Number of coefficients    : 18</pre>"
      ],
      "text/plain": [
       "Number of coefficients    : 18"
      ]
     },
     "metadata": {},
     "output_type": "display_data"
    },
    {
     "data": {
      "text/html": [
       "<pre>Starting Accelerated Gradient (FISTA)</pre>"
      ],
      "text/plain": [
       "Starting Accelerated Gradient (FISTA)"
      ]
     },
     "metadata": {},
     "output_type": "display_data"
    },
    {
     "data": {
      "text/html": [
       "<pre>--------------------------------------------------------</pre>"
      ],
      "text/plain": [
       "--------------------------------------------------------"
      ]
     },
     "metadata": {},
     "output_type": "display_data"
    },
    {
     "data": {
      "text/html": [
       "<pre>Tuning step size. First iteration could take longer than subsequent iterations.</pre>"
      ],
      "text/plain": [
       "Tuning step size. First iteration could take longer than subsequent iterations."
      ]
     },
     "metadata": {},
     "output_type": "display_data"
    },
    {
     "data": {
      "text/html": [
       "<pre>+-----------+----------+-----------+--------------+--------------------+---------------------------------+</pre>"
      ],
      "text/plain": [
       "+-----------+----------+-----------+--------------+--------------------+---------------------------------+"
      ]
     },
     "metadata": {},
     "output_type": "display_data"
    },
    {
     "data": {
      "text/html": [
       "<pre>| Iteration | Passes   | Step size | Elapsed Time | Training Max Error | Training Root-Mean-Square Error |</pre>"
      ],
      "text/plain": [
       "| Iteration | Passes   | Step size | Elapsed Time | Training Max Error | Training Root-Mean-Square Error |"
      ]
     },
     "metadata": {},
     "output_type": "display_data"
    },
    {
     "data": {
      "text/html": [
       "<pre>+-----------+----------+-----------+--------------+--------------------+---------------------------------+</pre>"
      ],
      "text/plain": [
       "+-----------+----------+-----------+--------------+--------------------+---------------------------------+"
      ]
     },
     "metadata": {},
     "output_type": "display_data"
    },
    {
     "data": {
      "text/html": [
       "<pre>| 0         | 1        | 1.000000  | 1.011903     | 7700000.000000     | 653047.733994                   |</pre>"
      ],
      "text/plain": [
       "| 0         | 1        | 1.000000  | 1.011903     | 7700000.000000     | 653047.733994                   |"
      ]
     },
     "metadata": {},
     "output_type": "display_data"
    },
    {
     "data": {
      "text/html": [
       "<pre>| 1         | 2        | 0.000002  | 1.255762     | 6962915.603493     | 426631.749026                   |</pre>"
      ],
      "text/plain": [
       "| 1         | 2        | 0.000002  | 1.255762     | 6962915.603493     | 426631.749026                   |"
      ]
     },
     "metadata": {},
     "output_type": "display_data"
    },
    {
     "data": {
      "text/html": [
       "<pre>| 2         | 3        | 0.000002  | 1.274233     | 6843144.200219     | 392488.929838                   |</pre>"
      ],
      "text/plain": [
       "| 2         | 3        | 0.000002  | 1.274233     | 6843144.200219     | 392488.929838                   |"
      ]
     },
     "metadata": {},
     "output_type": "display_data"
    },
    {
     "data": {
      "text/html": [
       "<pre>| 3         | 4        | 0.000002  | 1.297069     | 6831900.032123     | 385340.166783                   |</pre>"
      ],
      "text/plain": [
       "| 3         | 4        | 0.000002  | 1.297069     | 6831900.032123     | 385340.166783                   |"
      ]
     },
     "metadata": {},
     "output_type": "display_data"
    },
    {
     "data": {
      "text/html": [
       "<pre>| 4         | 5        | 0.000002  | 1.321500     | 6847166.848958     | 384842.383767                   |</pre>"
      ],
      "text/plain": [
       "| 4         | 5        | 0.000002  | 1.321500     | 6847166.848958     | 384842.383767                   |"
      ]
     },
     "metadata": {},
     "output_type": "display_data"
    },
    {
     "data": {
      "text/html": [
       "<pre>| 5         | 6        | 0.000002  | 1.347050     | 6869667.895833     | 385998.458623                   |</pre>"
      ],
      "text/plain": [
       "| 5         | 6        | 0.000002  | 1.347050     | 6869667.895833     | 385998.458623                   |"
      ]
     },
     "metadata": {},
     "output_type": "display_data"
    },
    {
     "data": {
      "text/html": [
       "<pre>| 10        | 11       | 0.000002  | 1.447531     | 6842123.232651     | 364204.576180                   |</pre>"
      ],
      "text/plain": [
       "| 10        | 11       | 0.000002  | 1.447531     | 6842123.232651     | 364204.576180                   |"
      ]
     },
     "metadata": {},
     "output_type": "display_data"
    },
    {
     "data": {
      "text/html": [
       "<pre>+-----------+----------+-----------+--------------+--------------------+---------------------------------+</pre>"
      ],
      "text/plain": [
       "+-----------+----------+-----------+--------------+--------------------+---------------------------------+"
      ]
     },
     "metadata": {},
     "output_type": "display_data"
    },
    {
     "data": {
      "text/html": [
       "<pre>Completed (Iteration limit reached).</pre>"
      ],
      "text/plain": [
       "Completed (Iteration limit reached)."
      ]
     },
     "metadata": {},
     "output_type": "display_data"
    },
    {
     "data": {
      "text/html": [
       "<pre>This model may not be optimal. To improve it, consider increasing `max_iterations`.</pre>"
      ],
      "text/plain": [
       "This model may not be optimal. To improve it, consider increasing `max_iterations`."
      ]
     },
     "metadata": {},
     "output_type": "display_data"
    }
   ],
   "source": [
    "model_all = turicreate.linear_regression.create(sales, target='price', features=all_features,\n",
    "                                                validation_set=None, \n",
    "                                                l2_penalty=0., l1_penalty=1e10)"
   ]
  },
  {
   "cell_type": "markdown",
   "metadata": {},
   "source": [
    "Find what features had non-zero weight."
   ]
  },
  {
   "cell_type": "code",
   "execution_count": 6,
   "metadata": {},
   "outputs": [
    {
     "name": "stdout",
     "output_type": "stream",
     "text": [
      "+-----------------+-------+-------+--------+\n",
      "|       name      | index | value | stderr |\n",
      "+-----------------+-------+-------+--------+\n",
      "|     bedrooms    |  None |  0.0  |  None  |\n",
      "| bedrooms_square |  None |  0.0  |  None  |\n",
      "|     sqft_lot    |  None |  0.0  |  None  |\n",
      "|  sqft_lot_sqrt  |  None |  0.0  |  None  |\n",
      "|      floors     |  None |  0.0  |  None  |\n",
      "|  floors_square  |  None |  0.0  |  None  |\n",
      "|    waterfront   |  None |  0.0  |  None  |\n",
      "|       view      |  None |  0.0  |  None  |\n",
      "|    condition    |  None |  0.0  |  None  |\n",
      "|  sqft_basement  |  None |  0.0  |  None  |\n",
      "|     yr_built    |  None |  0.0  |  None  |\n",
      "|   yr_renovated  |  None |  0.0  |  None  |\n",
      "+-----------------+-------+-------+--------+\n",
      "[12 rows x 4 columns]\n",
      "\n"
     ]
    }
   ],
   "source": [
    "model_all.coefficients[model_all.coefficients['value']==0].print_rows(num_rows=len(model_all.coefficients))"
   ]
  },
  {
   "cell_type": "code",
   "execution_count": 7,
   "metadata": {},
   "outputs": [
    {
     "data": {
      "text/html": [
       "<div style=\"max-height:1000px;max-width:1500px;overflow:auto;\"><table frame=\"box\" rules=\"cols\">\n",
       "    <tr>\n",
       "        <th style=\"padding-left: 1em; padding-right: 1em; text-align: center\">name</th>\n",
       "        <th style=\"padding-left: 1em; padding-right: 1em; text-align: center\">index</th>\n",
       "        <th style=\"padding-left: 1em; padding-right: 1em; text-align: center\">value</th>\n",
       "        <th style=\"padding-left: 1em; padding-right: 1em; text-align: center\">stderr</th>\n",
       "    </tr>\n",
       "    <tr>\n",
       "        <td style=\"padding-left: 1em; padding-right: 1em; text-align: center; vertical-align: top\">(intercept)</td>\n",
       "        <td style=\"padding-left: 1em; padding-right: 1em; text-align: center; vertical-align: top\">None</td>\n",
       "        <td style=\"padding-left: 1em; padding-right: 1em; text-align: center; vertical-align: top\">274873.05595049576</td>\n",
       "        <td style=\"padding-left: 1em; padding-right: 1em; text-align: center; vertical-align: top\">None</td>\n",
       "    </tr>\n",
       "    <tr>\n",
       "        <td style=\"padding-left: 1em; padding-right: 1em; text-align: center; vertical-align: top\">bathrooms</td>\n",
       "        <td style=\"padding-left: 1em; padding-right: 1em; text-align: center; vertical-align: top\">None</td>\n",
       "        <td style=\"padding-left: 1em; padding-right: 1em; text-align: center; vertical-align: top\">8468.531086910105</td>\n",
       "        <td style=\"padding-left: 1em; padding-right: 1em; text-align: center; vertical-align: top\">None</td>\n",
       "    </tr>\n",
       "    <tr>\n",
       "        <td style=\"padding-left: 1em; padding-right: 1em; text-align: center; vertical-align: top\">sqft_living</td>\n",
       "        <td style=\"padding-left: 1em; padding-right: 1em; text-align: center; vertical-align: top\">None</td>\n",
       "        <td style=\"padding-left: 1em; padding-right: 1em; text-align: center; vertical-align: top\">24.42072098244546</td>\n",
       "        <td style=\"padding-left: 1em; padding-right: 1em; text-align: center; vertical-align: top\">None</td>\n",
       "    </tr>\n",
       "    <tr>\n",
       "        <td style=\"padding-left: 1em; padding-right: 1em; text-align: center; vertical-align: top\">sqft_living_sqrt</td>\n",
       "        <td style=\"padding-left: 1em; padding-right: 1em; text-align: center; vertical-align: top\">None</td>\n",
       "        <td style=\"padding-left: 1em; padding-right: 1em; text-align: center; vertical-align: top\">350.06055338605546</td>\n",
       "        <td style=\"padding-left: 1em; padding-right: 1em; text-align: center; vertical-align: top\">None</td>\n",
       "    </tr>\n",
       "    <tr>\n",
       "        <td style=\"padding-left: 1em; padding-right: 1em; text-align: center; vertical-align: top\">grade</td>\n",
       "        <td style=\"padding-left: 1em; padding-right: 1em; text-align: center; vertical-align: top\">None</td>\n",
       "        <td style=\"padding-left: 1em; padding-right: 1em; text-align: center; vertical-align: top\">842.0680348976231</td>\n",
       "        <td style=\"padding-left: 1em; padding-right: 1em; text-align: center; vertical-align: top\">None</td>\n",
       "    </tr>\n",
       "    <tr>\n",
       "        <td style=\"padding-left: 1em; padding-right: 1em; text-align: center; vertical-align: top\">sqft_above</td>\n",
       "        <td style=\"padding-left: 1em; padding-right: 1em; text-align: center; vertical-align: top\">None</td>\n",
       "        <td style=\"padding-left: 1em; padding-right: 1em; text-align: center; vertical-align: top\">20.024722417091112</td>\n",
       "        <td style=\"padding-left: 1em; padding-right: 1em; text-align: center; vertical-align: top\">None</td>\n",
       "    </tr>\n",
       "</table>\n",
       "[6 rows x 4 columns]<br/>\n",
       "</div>"
      ],
      "text/plain": [
       "Columns:\n",
       "\tname\tstr\n",
       "\tindex\tstr\n",
       "\tvalue\tfloat\n",
       "\tstderr\tfloat\n",
       "\n",
       "Rows: 6\n",
       "\n",
       "Data:\n",
       "+------------------+-------+--------------------+--------+\n",
       "|       name       | index |       value        | stderr |\n",
       "+------------------+-------+--------------------+--------+\n",
       "|   (intercept)    |  None | 274873.05595049576 |  None  |\n",
       "|    bathrooms     |  None | 8468.531086910105  |  None  |\n",
       "|   sqft_living    |  None | 24.42072098244546  |  None  |\n",
       "| sqft_living_sqrt |  None | 350.06055338605546 |  None  |\n",
       "|      grade       |  None | 842.0680348976231  |  None  |\n",
       "|    sqft_above    |  None | 20.024722417091112 |  None  |\n",
       "+------------------+-------+--------------------+--------+\n",
       "[6 rows x 4 columns]"
      ]
     },
     "execution_count": 7,
     "metadata": {},
     "output_type": "execute_result"
    }
   ],
   "source": [
    "model_all.coefficients[model_all.coefficients['value']!=0][:]"
   ]
  },
  {
   "cell_type": "markdown",
   "metadata": {},
   "source": [
    "Note that a majority of the weights have been set to zero. So by setting an L1 penalty that's large enough, we are performing a subset selection. \n",
    "\n",
    "***QUIZ QUESTION***:\n",
    "According to this list of weights, which of the features have been chosen? "
   ]
  },
  {
   "cell_type": "markdown",
   "metadata": {},
   "source": [
    "# Selecting an L1 penalty"
   ]
  },
  {
   "cell_type": "markdown",
   "metadata": {},
   "source": [
    "To find a good L1 penalty, we will explore multiple values using a validation set. Let us do three way split into train, validation, and test sets:\n",
    "* Split our sales data into 2 sets: training and test\n",
    "* Further split our training data into two sets: train, validation\n",
    "\n",
    "Be *very* careful that you use seed = 1 to ensure you get the same answer!"
   ]
  },
  {
   "cell_type": "code",
   "execution_count": 8,
   "metadata": {},
   "outputs": [],
   "source": [
    "(training_and_validation, testing) = sales.random_split(.9,seed=1) # initial train/test split\n",
    "(training, validation) = training_and_validation.random_split(0.5, seed=1) # split training into train and validate"
   ]
  },
  {
   "cell_type": "markdown",
   "metadata": {},
   "source": [
    "Next, we write a loop that does the following:\n",
    "* For `l1_penalty` in [10^1, 10^1.5, 10^2, 10^2.5, ..., 10^7] (to get this in Python, type `np.logspace(1, 7, num=13)`.)\n",
    "    * Fit a regression model with a given `l1_penalty` on TRAIN data. Specify `l1_penalty=l1_penalty` and `l2_penalty=0.` in the parameter list.\n",
    "    * Compute the RSS on VALIDATION data (here you will want to use `.predict()`) for that `l1_penalty`\n",
    "* Report which `l1_penalty` produced the lowest RSS on validation data.\n",
    "\n",
    "When you call `linear_regression.create()` make sure you set `validation_set = None`.\n",
    "\n",
    "Note: you can turn off the print out of `linear_regression.create()` with `verbose = False`"
   ]
  },
  {
   "cell_type": "code",
   "execution_count": 9,
   "metadata": {},
   "outputs": [],
   "source": [
    "import numpy as np"
   ]
  },
  {
   "cell_type": "code",
   "execution_count": 10,
   "metadata": {},
   "outputs": [],
   "source": [
    "l1_search = np.logspace(1, 7, num=13)"
   ]
  },
  {
   "cell_type": "code",
   "execution_count": 11,
   "metadata": {},
   "outputs": [],
   "source": [
    "def model_l1(train_data=training, valid_data=validation, l1_penalty=10., \n",
    "             output_name='price', features_list=all_features):\n",
    "    model = turicreate.linear_regression.create(train_data, target=output_name, features=features_list,\n",
    "                                                validation_set=None, \n",
    "                                                l2_penalty=0., l1_penalty=l1_penalty, verbose=False)\n",
    "    e = compute_rss(model.predict(valid_data[features_list]), valid_data[output_name])\n",
    "    print('L1', l1_penalty, ':', e)\n",
    "    return e"
   ]
  },
  {
   "cell_type": "code",
   "execution_count": 12,
   "metadata": {},
   "outputs": [],
   "source": [
    "def compute_rss(pred, actual):\n",
    "    return sum((pred-actual)**2)"
   ]
  },
  {
   "cell_type": "code",
   "execution_count": 13,
   "metadata": {
    "scrolled": false
   },
   "outputs": [
    {
     "name": "stdout",
     "output_type": "stream",
     "text": [
      "L1 10.0 : 625766285142461.2\n",
      "L1 31.622776601683793 : 625766285362395.4\n",
      "L1 100.0 : 625766286057886.9\n",
      "L1 316.22776601683796 : 625766288257224.8\n",
      "L1 1000.0 : 625766295212185.9\n",
      "L1 3162.2776601683795 : 625766317206077.6\n",
      "L1 10000.0 : 625766386760661.5\n",
      "L1 31622.776601683792 : 625766606749281.1\n",
      "L1 100000.0 : 625767302791633.1\n",
      "L1 316227.7660168379 : 625769507643885.0\n",
      "L1 1000000.0 : 625776517727025.6\n",
      "L1 3162277.6601683795 : 625799062845466.8\n",
      "L1 10000000.0 : 625883719085424.4\n"
     ]
    }
   ],
   "source": [
    "model_list = []\n",
    "for l1 in l1_search:\n",
    "    model_list.append(model_l1(l1_penalty = l1))"
   ]
  },
  {
   "cell_type": "markdown",
   "metadata": {},
   "source": [
    "*** QUIZ QUESTION. *** What was the best value for the `l1_penalty`?"
   ]
  },
  {
   "cell_type": "code",
   "execution_count": 14,
   "metadata": {},
   "outputs": [
    {
     "data": {
      "text/plain": [
       "625766285142461.2"
      ]
     },
     "execution_count": 14,
     "metadata": {},
     "output_type": "execute_result"
    }
   ],
   "source": [
    "min(model_list)"
   ]
  },
  {
   "cell_type": "markdown",
   "metadata": {},
   "source": [
    "***QUIZ QUESTION***\n",
    "Also, using this value of L1 penalty, how many nonzero weights do you have?"
   ]
  },
  {
   "cell_type": "code",
   "execution_count": 15,
   "metadata": {},
   "outputs": [
    {
     "name": "stdout",
     "output_type": "stream",
     "text": [
      "+------------------+-------+----------------------+--------+\n",
      "|       name       | index |        value         | stderr |\n",
      "+------------------+-------+----------------------+--------+\n",
      "|   (intercept)    |  None |  20459.247521910453  |  None  |\n",
      "|     bedrooms     |  None |  8155.3809873690225  |  None  |\n",
      "| bedrooms_square  |  None |  1479.7378742257197  |  None  |\n",
      "|    bathrooms     |  None |  24576.238317244497  |  None  |\n",
      "|   sqft_living    |  None |  37.491150479793994  |  None  |\n",
      "| sqft_living_sqrt |  None |  1109.395970730788   |  None  |\n",
      "|     sqft_lot     |  None | -0.01684991984605998 |  None  |\n",
      "|  sqft_lot_sqrt   |  None |  149.56942398529617  |  None  |\n",
      "|      floors      |  None |   20983.5137367872   |  None  |\n",
      "|  floors_square   |  None |  12278.102345064515  |  None  |\n",
      "|    waterfront    |  None |  581971.3066492834   |  None  |\n",
      "|       view       |  None |  92988.98996857251   |  None  |\n",
      "|    condition     |  None |  6924.287196570817   |  None  |\n",
      "|      grade       |  None |  6205.641057788943   |  None  |\n",
      "|    sqft_above    |  None |  41.34973906958074   |  None  |\n",
      "|  sqft_basement   |  None |  118.23242135018481  |  None  |\n",
      "|     yr_built     |  None |  10.18816695292776   |  None  |\n",
      "|   yr_renovated   |  None |  58.711584016602494  |  None  |\n",
      "+------------------+-------+----------------------+--------+\n",
      "[18 rows x 4 columns]\n",
      "\n"
     ]
    }
   ],
   "source": [
    "model_l1_10 = turicreate.linear_regression.create(sales, target='price', features=all_features,\n",
    "                                                validation_set=None, \n",
    "                                                l2_penalty=0., l1_penalty=10,verbose=False)\n",
    "\n",
    "model_l1_10.coefficients[model_l1_10.coefficients['value']!=0].print_rows(num_rows=len(model_l1_10.coefficients))"
   ]
  },
  {
   "cell_type": "markdown",
   "metadata": {},
   "source": [
    "# Limit the number of nonzero weights\n",
    "\n",
    "What if we absolutely wanted to limit ourselves to, say, 7 features? This may be important if we want to derive \"a rule of thumb\" --- an interpretable model that has only a few features in them."
   ]
  },
  {
   "cell_type": "markdown",
   "metadata": {},
   "source": [
    "In this section, you are going to implement a simple, two phase procedure to achive this goal:\n",
    "1. Explore a large range of `l1_penalty` values to find a narrow region of `l1_penalty` values where models are likely to have the desired number of non-zero weights.\n",
    "2. Further explore the narrow region you found to find a good value for `l1_penalty` that achieves the desired sparsity.  Here, we will again use a validation set to choose the best value for `l1_penalty`."
   ]
  },
  {
   "cell_type": "code",
   "execution_count": 16,
   "metadata": {},
   "outputs": [],
   "source": [
    "max_nonzeros = 7"
   ]
  },
  {
   "cell_type": "markdown",
   "metadata": {},
   "source": [
    "## Exploring the larger range of values to find a narrow range with the desired sparsity\n",
    "\n",
    "Let's define a wide range of possible `l1_penalty_values`:"
   ]
  },
  {
   "cell_type": "code",
   "execution_count": 17,
   "metadata": {},
   "outputs": [],
   "source": [
    "l1_penalty_values = np.logspace(8, 10, num=20)"
   ]
  },
  {
   "cell_type": "markdown",
   "metadata": {},
   "source": [
    "Now, implement a loop that search through this space of possible `l1_penalty` values:\n",
    "\n",
    "* For `l1_penalty` in `np.logspace(8, 10, num=20)`:\n",
    "    * Fit a regression model with a given `l1_penalty` on TRAIN data. Specify `l1_penalty=l1_penalty` and `l2_penalty=0.` in the parameter list. When you call `linear_regression.create()` make sure you set `validation_set = None`\n",
    "    * Extract the weights of the model and count the number of nonzeros. Save the number of nonzeros to a list.\n",
    "        * *Hint: `model.coefficients['value']` gives you an SArray with the parameters you learned.  If you call the method `.nnz()` on it, you will find the number of non-zero parameters!* "
   ]
  },
  {
   "cell_type": "code",
   "execution_count": 18,
   "metadata": {},
   "outputs": [],
   "source": [
    "def model_l1_limit(train_data=training, valid_data=validation, l1_penalty=10., \n",
    "             output_name='price', features_list=all_features):\n",
    "    model = turicreate.linear_regression.create(train_data, target=output_name, features=features_list,\n",
    "                                                validation_set=None, \n",
    "                                                l2_penalty=0., l1_penalty=l1_penalty, verbose=False)\n",
    "    e = compute_rss(model.predict(valid_data[features_list]), valid_data[output_name])\n",
    "    nnzz = [i for i in list(model.coefficients['value']) if i != 0]\n",
    "    print('L1', l1_penalty, ':', len(nnzz), e)\n",
    "    return e, len(nnzz)"
   ]
  },
  {
   "cell_type": "code",
   "execution_count": 19,
   "metadata": {},
   "outputs": [
    {
     "name": "stdout",
     "output_type": "stream",
     "text": [
      "L1 100000000.0 : [25090.917367212027, 7789.1770611005595, 847.5596869428736, 25234.209194458625, 39.03944596356861, 1117.3118955675634, -0.025686118239919474, 143.98899196976998, 20695.35923964387, 12466.690650291852, 568204.6445841155, 91066.94280879851, 6360.78092624981, 6139.2128056478905, 43.03582992460563, 118.9458749543526, 9.040401654020457, 48.615467309274564] 627492659875075.4\n",
      "L1 127427498.57031322 : [26746.66193663547, 7743.979047849886, 822.358945250938, 25178.62593058694, 39.01071813525402, 1114.9107159232628, -0.01866307372278282, 142.51979784137163, 20545.867304697575, 12339.245250245609, 558930.2470718037, 90439.72185124883, 6288.009465538855, 6118.412320616765, 42.957556768130495, 117.99004260104358, 8.924085433195666, 46.56185624767167] 628210516770747.1\n",
      "L1 162377673.91887242 : [28873.181016622366, 7691.047075686324, 790.9175796843566, 25115.278534515925, 38.9820788132087, 1112.2394146479883, -0.024737360580801046, 140.94584475081723, 20365.265896852678, 12181.186257705753, 547143.180178905, 89651.69239158732, 6199.959965996095, 6094.131386545272, 42.86718404798595, 116.7893252862552, 8.784328577071982, 43.95345985745589] 629176689541060.0\n",
      "L1 206913808.111479 : [31564.606473324176, 7618.567764636495, 750.1709548829191, 25026.177407617186, 38.935915253109776, 1108.3863193708114, -0.01774476275138417, 138.38532594587818, 20124.746720019688, 11975.497761696126, 532082.0756272507, 88631.04255545625, 6082.626008198674, 6060.6779112246695, 42.74031497907832, 115.24303664623339, 8.596902634509672, 40.62156230142575] 630650082718672.2\n",
      "L1 263665089.87303555 : [34954.67174323055, 7515.3774821478555, 696.7853594765768, 24894.556092358773, 38.85614063903366, 1102.5056436481377, 133.90030719388716, 19795.930331186624, 11704.228054783027, 512800.58013871073, 87294.44208081363, 5922.041895353971, 6012.6238340951695, 42.553243691733734, 113.2379318275155, 8.337936513644978, 36.358519428696574] 632940229286982.8\n",
      "L1 335981828.6283788 : [39314.615048616346, 7394.882889515532, 630.2530312218134, 24745.12178980744, 38.77550601691835, 1095.9906971335529, 129.37160816623378, 19399.66700712912, 11367.95747189607, 488319.7480290307, 85626.78665609904, 5728.632165362398, 5956.871755685231, 42.340283994967585, 110.71867715722657, 8.028336789396976, 30.94403093887231] 636268140229527.8\n",
      "L1 428133239.8719396 : [44909.337918311125, 7253.293148190758, 547.5924623737068, 24570.685895261584, 38.68228127230285, 1088.3818684231635, 121.98711365252676, 18922.821613870306, 10954.471871806496, 457135.2571203198, 83487.12784485536, 5493.396781433044, 5890.403907087822, 42.0766862593897, 107.57670840450729, 7.653504614428539, 24.076198253079774] 641261198311188.1\n",
      "L1 545559478.1168514 : [52030.03008056483, 7070.216615668916, 441.7750840911411, 24344.88205500959, 38.56150502802324, 1078.5368139996178, 112.95992577319835, 18308.86723644869, 10424.128529714331, 417398.76313595125, 80764.7024479386, 5191.188382056852, 5804.710901670971, 41.73926808864353, 103.55745460168671, 7.171559453202588, 15.31732546450515] 648983455376337.1\n",
      "L1 695192796.1775591 : [61121.28202435141, 6842.360515558527, 307.9036601622036, 24063.60958749422, 38.40964739069747, 1066.2493764885864, 100.1935592911038, 17539.440783134865, 9755.402234112522, 366774.08454314433, 77282.298812589, 4811.239971932413, 5697.413131741467, 41.3094875826893, 98.47108255285788, 6.566249512807738, 4.170973622792711] 660962217696069.8\n",
      "L1 885866790.4100832 : [72653.76283566155, 6537.498538782963, 135.20364887523863, 23681.23672270432, 38.1918646960599, 1049.3914965059912, 83.22101625263923, 16527.63470379286, 8889.544638755347, 301854.63361377636, 72780.67609363608, 4313.382092011945, 5553.897040346683, 40.73537901021264, 91.90796363449789, 5.7689658807504385] 677261520727859.4\n",
      "L1 1128837891.6846883 : [87298.82768111023, 6137.401722507495, 23168.69527901763, 37.8885236070227, 1026.7096995183554, 60.07198525926955, 15213.029420315961, 7778.835387674348, 217190.05177959366, 66808.73953276862, 3671.7283384428642, 5365.15461243734, 39.98228133899248, 83.36603089083613, 4.731371459705314] 701046815867078.4\n",
      "L1 1438449888.2876658 : [105843.80001578903, 5589.854102063277, 22460.65593129862, 37.44845537114538, 995.1398159253089, 29.06152192567215, 13469.249093949671, 6335.036737559206, 108231.30249081188, 59040.04882869639, 2826.4541225535227, 5110.1347805871255, 38.96709746488865, 72.26234271807702, 3.352913423404385] 737850622829045.2\n",
      "L1 1832980710.8324375 : [129178.71422833431, 4784.470900916169, 21417.82247390828, 36.74606942259415, 947.9643280998287, 11067.154171923868, 4415.509049749234, 48905.91595294178, 1667.840835994083, 4746.515940254016, 37.517705166670815, 57.656917800612035, 1.447643129893663] 796163109639832.8\n",
      "L1 2335721469.0901213 : [158796.2009043941, 3707.1396292472614, 19985.997836845396, 35.69739787089125, 882.7889028047624, 7920.12523610469, 1926.9305157514798, 32825.29786868615, 150.0143304959114, 4258.663022349139, 35.5274768687888, 38.19405090777193] 869018172893694.1\n",
      "L1 2976351441.6313133 : [196100.93780562267, 2181.574321070672, 17962.696661157832, 34.14246565122559, 789.319789078234, 3665.9308175965243, 11333.841030833135, 3578.9004004381122, 32.74320137175839, 12.795381135944734] 966925692362086.5\n",
      "L1 3792690190.7322536 : [240309.75931983022, 13840.639957731408, 30.558358829777045, 592.1994692127591, 2265.1205255597065, 27.487872656764047] 1081867592324111.6\n",
      "L1 4832930238.571753 : [291783.67806537944, 6104.325765458815, 23.170124302102497, 215.03093436537648, 18.407474015439654] 1244927360324958.0\n",
      "L1 6158482110.6602545 : [352383.2203918056, 11.5088257812839, 4.663435035929885] 1384161490235110.2\n",
      "L1 7847599703.514623 : [507987.96274370275] 1230794720455639.8\n",
      "L1 10000000000.0 : [564482.136844175] 1229157160638603.5\n"
     ]
    }
   ],
   "source": [
    "model_list2 = []\n",
    "non_zeros = []\n",
    "#list2_coeffs = []\n",
    "for l1_pen in l1_penalty_values:\n",
    "    rss, nzs= model_l1_limit(l1_penalty=l1_pen)\n",
    "    model_list2.append(rss)\n",
    "    non_zeros.append(nzs)\n",
    "    #list2_coeffs.append(coefficients)"
   ]
  },
  {
   "cell_type": "markdown",
   "metadata": {},
   "source": [
    "Out of this large range, we want to find the two ends of our desired narrow range of `l1_penalty`.  At one end, we will have `l1_penalty` values that have too few non-zeros, and at the other end, we will have an `l1_penalty` that has too many non-zeros.  \n",
    "\n",
    "More formally, find:\n",
    "* The largest `l1_penalty` that has more non-zeros than `max_nonzeros` (if we pick a penalty smaller than this value, we will definitely have too many non-zero weights)\n",
    "    * Store this value in the variable `l1_penalty_min` (we will use it later)\n",
    "* The smallest `l1_penalty` that has fewer non-zeros than `max_nonzeros` (if we pick a penalty larger than this value, we will definitely have too few non-zero weights)\n",
    "    * Store this value in the variable `l1_penalty_max` (we will use it later)\n",
    "\n",
    "\n",
    "*Hint: there are many ways to do this, e.g.:*\n",
    "* Programmatically within the loop above\n",
    "* Creating a list with the number of non-zeros for each value of `l1_penalty` and inspecting it to find the appropriate boundaries."
   ]
  },
  {
   "cell_type": "code",
   "execution_count": 20,
   "metadata": {},
   "outputs": [
    {
     "data": {
      "text/plain": [
       "2976351441.6313133"
      ]
     },
     "execution_count": 20,
     "metadata": {},
     "output_type": "execute_result"
    }
   ],
   "source": [
    "l1_penalty_min = np.max(l1_penalty_values[[i for i in range(len(non_zeros)) if non_zeros[i] > max_nonzeros]])\n",
    "l1_penalty_min"
   ]
  },
  {
   "cell_type": "code",
   "execution_count": 21,
   "metadata": {},
   "outputs": [
    {
     "data": {
      "text/plain": [
       "3792690190.7322536"
      ]
     },
     "execution_count": 21,
     "metadata": {},
     "output_type": "execute_result"
    }
   ],
   "source": [
    "l1_penalty_max = np.min(l1_penalty_values[[i for i in range(len(non_zeros)) if non_zeros[i] < max_nonzeros]])\n",
    "l1_penalty_max"
   ]
  },
  {
   "cell_type": "code",
   "execution_count": null,
   "metadata": {},
   "outputs": [],
   "source": []
  },
  {
   "cell_type": "code",
   "execution_count": null,
   "metadata": {},
   "outputs": [],
   "source": []
  },
  {
   "cell_type": "markdown",
   "metadata": {},
   "source": [
    "***QUIZ QUESTION.*** What values did you find for `l1_penalty_min` and `l1_penalty_max`, respectively? "
   ]
  },
  {
   "cell_type": "markdown",
   "metadata": {},
   "source": [
    "## Exploring the narrow range of values to find the solution with the right number of non-zeros that has lowest RSS on the validation set \n",
    "\n",
    "We will now explore the narrow region of `l1_penalty` values we found:"
   ]
  },
  {
   "cell_type": "code",
   "execution_count": 22,
   "metadata": {},
   "outputs": [],
   "source": [
    "l1_penalty_values = np.linspace(l1_penalty_min,l1_penalty_max,20)"
   ]
  },
  {
   "cell_type": "markdown",
   "metadata": {},
   "source": [
    "* For `l1_penalty` in `np.linspace(l1_penalty_min,l1_penalty_max,20)`:\n",
    "    * Fit a regression model with a given `l1_penalty` on TRAIN data. Specify `l1_penalty=l1_penalty` and `l2_penalty=0.` in the parameter list. When you call `linear_regression.create()` make sure you set `validation_set = None`\n",
    "    * Measure the RSS of the learned model on the VALIDATION set\n",
    "\n",
    "Find the model that the lowest RSS on the VALIDATION set and has sparsity *equal* to `max_nonzeros`."
   ]
  },
  {
   "cell_type": "code",
   "execution_count": 23,
   "metadata": {},
   "outputs": [
    {
     "name": "stdout",
     "output_type": "stream",
     "text": [
      "L1 2976351441.6313133 : [196100.93780562267, 2181.574321070672, 17962.696661157832, 34.14246565122559, 789.319789078234, 3665.9308175965243, 11333.841030833135, 3578.9004004381122, 32.74320137175839, 12.795381135944734] 966925692362086.5\n",
      "L1 3019316638.9524155 : [198563.24621808337, 2067.0151555582247, 17810.387597798555, 34.021510305615955, 782.1823176948214, 3358.2033052237985, 9876.737608119618, 3528.25500887085, 32.53723292119236, 11.050728857454825] 974019450084556.8\n",
      "L1 3062281836.2735176 : [201025.56040541275, 1952.476489609668, 17658.089496535533, 33.90056535462458, 775.0454285495282, 3050.472194038408, 8418.987059021993, 3477.612166173274, 32.33126559851514, 9.306267213386935] 981188367942450.6\n",
      "L1 3105247033.5946198 : [203443.60100002843, 1825.7886426921725, 17487.49235108723, 33.76199379582763, 766.9631650719977, 2716.8076217860025, 6944.3661608031025, 3421.3503525231645, 32.10532315753412, 7.513151240077799] 989328342459471.6\n",
      "L1 3148212230.915722 : [205805.89950145458, 1683.3934411883502, 17291.036028181905, 33.59899520820665, 757.6317354638663, 2342.2083307967096, 5448.023508703535, 3357.67138390747, 31.850079862473656, 5.6751047800510594] 998783211265885.6\n",
      "L1 3191177428.236824 : [208163.0754632091, 1539.5513689709917, 17092.181966807217, 33.433734376679915, 748.1850483982346, 1963.7849935333102, 3949.685348621405, 3293.308080311761, 31.59211174870523, 3.8330526398195994] 1008477167020096.1\n",
      "L1 3234142625.557926 : [210520.25142496362, 1395.7092967536191, 16893.32790543256, 33.26847354515312, 738.7383613326041, 1585.3616562699153, 2451.3471885392746, 3228.9447767160627, 31.334143634936815, 1.9910004995880537] 1018298780553818.1\n",
      "L1 3277107822.8790283 : [212877.41334194763, 1251.868081591011, 16694.475028890807, 33.10321369830063, 729.291730553204, 1206.9405737677132, 953.0179560110512, 3164.581856616472, 31.07617705822081, 0.14895933486278154] 1028247992205975.9\n",
      "L1 3320073020.2001305 : [215235.603643665, 1108.369559558542, 16496.236073166325, 32.93841184767414, 719.8684417855085, 829.5600647250777, 3100.359920213583, 30.81866529068491] 1034616909232828.9\n",
      "L1 3363038217.5212326 : [217598.30381490258, 966.398500274347, 16300.731946320278, 32.77565067773476, 710.5491844811561, 456.81608719967045, 3036.766518244176, 30.563182489806934] 1038554735941040.0\n",
      "L1 3406003414.8423347 : [219929.8569701935, 815.2761922109911, 16089.493189264542, 32.59539760204808, 700.4398943171183, 64.82124522041727, 2968.6998100380447, 30.289833484660935] 1043237237871703.9\n",
      "L1 3448968612.163437 : [222253.1925443279, 661.7227177822278, 15873.957259268, 32.41022145125974, 690.1147733133166, 2899.420269749878, 30.011575302201138] 1046937488751713.5\n",
      "L1 3491933809.484539 : [224545.13650135914, 496.98342997701394, 15640.822913127096, 32.20393419938986, 678.904419356514, 2825.4694254035503, 29.715599775952906] 1051147625612863.0\n",
      "L1 3534899006.805641 : [226807.0472336285, 322.09888843643375, 15392.956522287568, 31.98175540689525, 666.9499040767545, 2747.5278756524785, 29.406107885657363] 1055992735342998.9\n",
      "L1 3577864204.126743 : [229077.87544771246, 149.4175084913122, 15146.739275608545, 31.758637784209213, 655.0782487799048, 2670.2506439549024, 29.097966305233168] 1060799531763289.9\n",
      "L1 3620829401.447845 : [231334.90922062274, 14892.999487782467, 31.528775842845896, 642.8794167399592, 2590.9819244921396, 28.781057387961642] 1065707689498229.5\n",
      "L1 3663794598.768947 : [233587.84208595747, 14637.120281929749, 31.29706872302572, 630.5871994931335, 2511.139955199401, 28.46167227592123] 1069464335425583.8\n",
      "L1 3706759796.0900493 : [235832.55154166778, 14373.650392455029, 31.05322653452212, 617.8980219466056, 2429.6800148115476, 28.138501649139684] 1073504549585594.4\n",
      "L1 3749724993.4111514 : [238074.13636151506, 14108.226217730984, 30.806777561658087, 605.1071231942789, 2347.7607505775454, 27.814308951343772] 1077632775581411.9\n",
      "L1 3792690190.7322536 : [240309.75931983022, 13840.639957731408, 30.558358829777045, 592.1994692127591, 2265.1205255597065, 27.487872656764047] 1081867592324111.6\n"
     ]
    }
   ],
   "source": [
    "model_list2 = []\n",
    "non_zeros = []\n",
    "#list2_coeffs = []\n",
    "for l1_pen in l1_penalty_values:\n",
    "    rss, nzs= model_l1_limit(l1_penalty=l1_pen)\n",
    "    model_list2.append(rss)\n",
    "    non_zeros.append(nzs)\n",
    "    #list2_coeffs.append(coefficients)"
   ]
  },
  {
   "cell_type": "markdown",
   "metadata": {},
   "source": [
    "***QUIZ QUESTIONS***\n",
    "1. What value of `l1_penalty` in our narrow range has the lowest RSS on the VALIDATION set and has sparsity *equal* to `max_nonzeros`?\n",
    "2. What features in this model have non-zero coefficients?"
   ]
  },
  {
   "cell_type": "code",
   "execution_count": 24,
   "metadata": {},
   "outputs": [
    {
     "data": {
      "text/plain": [
       "3577864204.126743"
      ]
     },
     "execution_count": 24,
     "metadata": {},
     "output_type": "execute_result"
    }
   ],
   "source": [
    "l1_penalty_min = np.max(l1_penalty_values[[i for i in range(len(non_zeros)) if non_zeros[i] == max_nonzeros]])\n",
    "l1_penalty_min"
   ]
  },
  {
   "cell_type": "code",
   "execution_count": 25,
   "metadata": {},
   "outputs": [
    {
     "name": "stdout",
     "output_type": "stream",
     "text": [
      "1046937488751713.5\n",
      "1051147625612863.0\n",
      "1055992735342998.9\n",
      "1060799531763289.9\n"
     ]
    },
    {
     "data": {
      "text/plain": [
       "[3448968612.163437, 3491933809.484539, 3534899006.805641, 3577864204.126743]"
      ]
     },
     "execution_count": 25,
     "metadata": {},
     "output_type": "execute_result"
    }
   ],
   "source": [
    "for i in list(l1_penalty_values[[i for i in range(len(non_zeros)) if non_zeros[i] == max_nonzeros]]):\n",
    "    print(model_list2[list(l1_penalty_values).index(i)])\n",
    "list(l1_penalty_values[[i for i in range(len(non_zeros)) if non_zeros[i] == max_nonzeros]])"
   ]
  },
  {
   "cell_type": "code",
   "execution_count": 26,
   "metadata": {},
   "outputs": [
    {
     "data": {
      "text/html": [
       "<pre>Linear regression:</pre>"
      ],
      "text/plain": [
       "Linear regression:"
      ]
     },
     "metadata": {},
     "output_type": "display_data"
    },
    {
     "data": {
      "text/html": [
       "<pre>--------------------------------------------------------</pre>"
      ],
      "text/plain": [
       "--------------------------------------------------------"
      ]
     },
     "metadata": {},
     "output_type": "display_data"
    },
    {
     "data": {
      "text/html": [
       "<pre>Number of examples          : 21613</pre>"
      ],
      "text/plain": [
       "Number of examples          : 21613"
      ]
     },
     "metadata": {},
     "output_type": "display_data"
    },
    {
     "data": {
      "text/html": [
       "<pre>Number of features          : 17</pre>"
      ],
      "text/plain": [
       "Number of features          : 17"
      ]
     },
     "metadata": {},
     "output_type": "display_data"
    },
    {
     "data": {
      "text/html": [
       "<pre>Number of unpacked features : 17</pre>"
      ],
      "text/plain": [
       "Number of unpacked features : 17"
      ]
     },
     "metadata": {},
     "output_type": "display_data"
    },
    {
     "data": {
      "text/html": [
       "<pre>Number of coefficients    : 18</pre>"
      ],
      "text/plain": [
       "Number of coefficients    : 18"
      ]
     },
     "metadata": {},
     "output_type": "display_data"
    },
    {
     "data": {
      "text/html": [
       "<pre>Starting Accelerated Gradient (FISTA)</pre>"
      ],
      "text/plain": [
       "Starting Accelerated Gradient (FISTA)"
      ]
     },
     "metadata": {},
     "output_type": "display_data"
    },
    {
     "data": {
      "text/html": [
       "<pre>--------------------------------------------------------</pre>"
      ],
      "text/plain": [
       "--------------------------------------------------------"
      ]
     },
     "metadata": {},
     "output_type": "display_data"
    },
    {
     "data": {
      "text/html": [
       "<pre>Tuning step size. First iteration could take longer than subsequent iterations.</pre>"
      ],
      "text/plain": [
       "Tuning step size. First iteration could take longer than subsequent iterations."
      ]
     },
     "metadata": {},
     "output_type": "display_data"
    },
    {
     "data": {
      "text/html": [
       "<pre>+-----------+----------+-----------+--------------+--------------------+---------------------------------+</pre>"
      ],
      "text/plain": [
       "+-----------+----------+-----------+--------------+--------------------+---------------------------------+"
      ]
     },
     "metadata": {},
     "output_type": "display_data"
    },
    {
     "data": {
      "text/html": [
       "<pre>| Iteration | Passes   | Step size | Elapsed Time | Training Max Error | Training Root-Mean-Square Error |</pre>"
      ],
      "text/plain": [
       "| Iteration | Passes   | Step size | Elapsed Time | Training Max Error | Training Root-Mean-Square Error |"
      ]
     },
     "metadata": {},
     "output_type": "display_data"
    },
    {
     "data": {
      "text/html": [
       "<pre>+-----------+----------+-----------+--------------+--------------------+---------------------------------+</pre>"
      ],
      "text/plain": [
       "+-----------+----------+-----------+--------------+--------------------+---------------------------------+"
      ]
     },
     "metadata": {},
     "output_type": "display_data"
    },
    {
     "data": {
      "text/html": [
       "<pre>| 0         | 1        | 1.000000  | 0.010739     | 7700000.000000     | 653047.733994                   |</pre>"
      ],
      "text/plain": [
       "| 0         | 1        | 1.000000  | 0.010739     | 7700000.000000     | 653047.733994                   |"
      ]
     },
     "metadata": {},
     "output_type": "display_data"
    },
    {
     "data": {
      "text/html": [
       "<pre>| 1         | 2        | 0.000002  | 0.247137     | 6541150.023382     | 344511.505652                   |</pre>"
      ],
      "text/plain": [
       "| 1         | 2        | 0.000002  | 0.247137     | 6541150.023382     | 344511.505652                   |"
      ]
     },
     "metadata": {},
     "output_type": "display_data"
    },
    {
     "data": {
      "text/html": [
       "<pre>| 2         | 3        | 0.000002  | 0.267230     | 6326321.970048     | 313860.054231                   |</pre>"
      ],
      "text/plain": [
       "| 2         | 3        | 0.000002  | 0.267230     | 6326321.970048     | 313860.054231                   |"
      ]
     },
     "metadata": {},
     "output_type": "display_data"
    },
    {
     "data": {
      "text/html": [
       "<pre>| 3         | 4        | 0.000002  | 0.291318     | 6262749.169842     | 307527.438037                   |</pre>"
      ],
      "text/plain": [
       "| 3         | 4        | 0.000002  | 0.291318     | 6262749.169842     | 307527.438037                   |"
      ]
     },
     "metadata": {},
     "output_type": "display_data"
    },
    {
     "data": {
      "text/html": [
       "<pre>| 4         | 5        | 0.000002  | 0.314680     | 6228643.880088     | 305107.730390                   |</pre>"
      ],
      "text/plain": [
       "| 4         | 5        | 0.000002  | 0.314680     | 6228643.880088     | 305107.730390                   |"
      ]
     },
     "metadata": {},
     "output_type": "display_data"
    },
    {
     "data": {
      "text/html": [
       "<pre>| 5         | 6        | 0.000002  | 0.339579     | 6191736.249502     | 303083.109952                   |</pre>"
      ],
      "text/plain": [
       "| 5         | 6        | 0.000002  | 0.339579     | 6191736.249502     | 303083.109952                   |"
      ]
     },
     "metadata": {},
     "output_type": "display_data"
    },
    {
     "data": {
      "text/html": [
       "<pre>| 10        | 11       | 0.000002  | 0.437038     | 5986314.583941     | 293985.646175                   |</pre>"
      ],
      "text/plain": [
       "| 10        | 11       | 0.000002  | 0.437038     | 5986314.583941     | 293985.646175                   |"
      ]
     },
     "metadata": {},
     "output_type": "display_data"
    },
    {
     "data": {
      "text/html": [
       "<pre>+-----------+----------+-----------+--------------+--------------------+---------------------------------+</pre>"
      ],
      "text/plain": [
       "+-----------+----------+-----------+--------------+--------------------+---------------------------------+"
      ]
     },
     "metadata": {},
     "output_type": "display_data"
    },
    {
     "data": {
      "text/html": [
       "<pre>Completed (Iteration limit reached).</pre>"
      ],
      "text/plain": [
       "Completed (Iteration limit reached)."
      ]
     },
     "metadata": {},
     "output_type": "display_data"
    },
    {
     "data": {
      "text/html": [
       "<pre>This model may not be optimal. To improve it, consider increasing `max_iterations`.</pre>"
      ],
      "text/plain": [
       "This model may not be optimal. To improve it, consider increasing `max_iterations`."
      ]
     },
     "metadata": {},
     "output_type": "display_data"
    },
    {
     "data": {
      "text/html": [
       "<div style=\"max-height:1000px;max-width:1500px;overflow:auto;\"><table frame=\"box\" rules=\"cols\">\n",
       "    <tr>\n",
       "        <th style=\"padding-left: 1em; padding-right: 1em; text-align: center\">name</th>\n",
       "        <th style=\"padding-left: 1em; padding-right: 1em; text-align: center\">index</th>\n",
       "        <th style=\"padding-left: 1em; padding-right: 1em; text-align: center\">value</th>\n",
       "        <th style=\"padding-left: 1em; padding-right: 1em; text-align: center\">stderr</th>\n",
       "    </tr>\n",
       "    <tr>\n",
       "        <td style=\"padding-left: 1em; padding-right: 1em; text-align: center; vertical-align: top\">(intercept)</td>\n",
       "        <td style=\"padding-left: 1em; padding-right: 1em; text-align: center; vertical-align: top\">None</td>\n",
       "        <td style=\"padding-left: 1em; padding-right: 1em; text-align: center; vertical-align: top\">113003.25561650672</td>\n",
       "        <td style=\"padding-left: 1em; padding-right: 1em; text-align: center; vertical-align: top\">None</td>\n",
       "    </tr>\n",
       "    <tr>\n",
       "        <td style=\"padding-left: 1em; padding-right: 1em; text-align: center; vertical-align: top\">bathrooms</td>\n",
       "        <td style=\"padding-left: 1em; padding-right: 1em; text-align: center; vertical-align: top\">None</td>\n",
       "        <td style=\"padding-left: 1em; padding-right: 1em; text-align: center; vertical-align: top\">21448.4723121285</td>\n",
       "        <td style=\"padding-left: 1em; padding-right: 1em; text-align: center; vertical-align: top\">None</td>\n",
       "    </tr>\n",
       "    <tr>\n",
       "        <td style=\"padding-left: 1em; padding-right: 1em; text-align: center; vertical-align: top\">sqft_living</td>\n",
       "        <td style=\"padding-left: 1em; padding-right: 1em; text-align: center; vertical-align: top\">None</td>\n",
       "        <td style=\"padding-left: 1em; padding-right: 1em; text-align: center; vertical-align: top\">35.720260923973655</td>\n",
       "        <td style=\"padding-left: 1em; padding-right: 1em; text-align: center; vertical-align: top\">None</td>\n",
       "    </tr>\n",
       "    <tr>\n",
       "        <td style=\"padding-left: 1em; padding-right: 1em; text-align: center; vertical-align: top\">sqft_living_sqrt</td>\n",
       "        <td style=\"padding-left: 1em; padding-right: 1em; text-align: center; vertical-align: top\">None</td>\n",
       "        <td style=\"padding-left: 1em; padding-right: 1em; text-align: center; vertical-align: top\">969.5527902084325</td>\n",
       "        <td style=\"padding-left: 1em; padding-right: 1em; text-align: center; vertical-align: top\">None</td>\n",
       "    </tr>\n",
       "    <tr>\n",
       "        <td style=\"padding-left: 1em; padding-right: 1em; text-align: center; vertical-align: top\">grade</td>\n",
       "        <td style=\"padding-left: 1em; padding-right: 1em; text-align: center; vertical-align: top\">None</td>\n",
       "        <td style=\"padding-left: 1em; padding-right: 1em; text-align: center; vertical-align: top\">5022.01290720405</td>\n",
       "        <td style=\"padding-left: 1em; padding-right: 1em; text-align: center; vertical-align: top\">None</td>\n",
       "    </tr>\n",
       "    <tr>\n",
       "        <td style=\"padding-left: 1em; padding-right: 1em; text-align: center; vertical-align: top\">sqft_above</td>\n",
       "        <td style=\"padding-left: 1em; padding-right: 1em; text-align: center; vertical-align: top\">None</td>\n",
       "        <td style=\"padding-left: 1em; padding-right: 1em; text-align: center; vertical-align: top\">36.73030536670435</td>\n",
       "        <td style=\"padding-left: 1em; padding-right: 1em; text-align: center; vertical-align: top\">None</td>\n",
       "    </tr>\n",
       "</table>\n",
       "[6 rows x 4 columns]<br/>\n",
       "</div>"
      ],
      "text/plain": [
       "Columns:\n",
       "\tname\tstr\n",
       "\tindex\tstr\n",
       "\tvalue\tfloat\n",
       "\tstderr\tfloat\n",
       "\n",
       "Rows: 6\n",
       "\n",
       "Data:\n",
       "+------------------+-------+--------------------+--------+\n",
       "|       name       | index |       value        | stderr |\n",
       "+------------------+-------+--------------------+--------+\n",
       "|   (intercept)    |  None | 113003.25561650672 |  None  |\n",
       "|    bathrooms     |  None |  21448.4723121285  |  None  |\n",
       "|   sqft_living    |  None | 35.720260923973655 |  None  |\n",
       "| sqft_living_sqrt |  None | 969.5527902084325  |  None  |\n",
       "|      grade       |  None |  5022.01290720405  |  None  |\n",
       "|    sqft_above    |  None | 36.73030536670435  |  None  |\n",
       "+------------------+-------+--------------------+--------+\n",
       "[6 rows x 4 columns]"
      ]
     },
     "execution_count": 26,
     "metadata": {},
     "output_type": "execute_result"
    }
   ],
   "source": [
    "model_all2 = turicreate.linear_regression.create(sales, target='price', features=all_features,\n",
    "                                                validation_set=None, \n",
    "                                                l2_penalty=0., l1_penalty=3448968612.163437)\n",
    "model_all2.coefficients[model_all.coefficients['value']!=0][:]"
   ]
  },
  {
   "cell_type": "code",
   "execution_count": null,
   "metadata": {},
   "outputs": [],
   "source": []
  }
 ],
 "metadata": {
  "kernelspec": {
   "display_name": "Python 3",
   "language": "python",
   "name": "python3"
  },
  "language_info": {
   "codemirror_mode": {
    "name": "ipython",
    "version": 3
   },
   "file_extension": ".py",
   "mimetype": "text/x-python",
   "name": "python",
   "nbconvert_exporter": "python",
   "pygments_lexer": "ipython3",
   "version": "3.7.6"
  }
 },
 "nbformat": 4,
 "nbformat_minor": 1
}
